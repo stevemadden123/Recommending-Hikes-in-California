{
 "cells": [
  {
   "cell_type": "code",
   "execution_count": 1,
   "metadata": {},
   "outputs": [],
   "source": [
    "%matplotlib inline\n",
    "import pandas as pd\n",
    "import seaborn as sns\n",
    "import numpy as np\n",
    "import pickle\n",
    "\n",
    "# import visualization tools\n",
    "import umap\n",
    "import matplotlib.pyplot as plt\n",
    "import matplotlib.colors as mcolors\n",
    "import seaborn as sns\n",
    "from wordcloud import WordCloud, STOPWORDS\n",
    "import spacy\n",
    "\n",
    "from sklearn.metrics.pairwise import cosine_similarity"
   ]
  },
  {
   "cell_type": "code",
   "execution_count": 26,
   "metadata": {},
   "outputs": [],
   "source": [
    "# import pickled data\n",
    "df_lda_cv = pd.read_pickle('df_lda_cv.pkl')\n",
    "data_na = pd.read_pickle('data_na.pkl')\n",
    "trail_df = pd.read_pickle('trail_agg_df.pickle')\n",
    "doc_topic_lda_cv = pd.read_pickle('doc_topic_lda_cv.pkl')"
   ]
  },
  {
   "cell_type": "code",
   "execution_count": 4,
   "metadata": {},
   "outputs": [],
   "source": [
    "# create dataframe from doc_topic array\n",
    "a_df = pd.DataFrame(doc_topic_lda_cv,\n",
    "             index = data_na.index,\n",
    "             columns = [\"topic_1\",\"topic_2\",\"topic_3\",\"topic_4\",\n",
    "                       \"topic_5\",\"topic_6\"])"
   ]
  },
  {
   "cell_type": "code",
   "execution_count": 7,
   "metadata": {},
   "outputs": [
    {
     "data": {
      "text/html": [
       "<div>\n",
       "<style scoped>\n",
       "    .dataframe tbody tr th:only-of-type {\n",
       "        vertical-align: middle;\n",
       "    }\n",
       "\n",
       "    .dataframe tbody tr th {\n",
       "        vertical-align: top;\n",
       "    }\n",
       "\n",
       "    .dataframe thead th {\n",
       "        text-align: right;\n",
       "    }\n",
       "</style>\n",
       "<table border=\"1\" class=\"dataframe\">\n",
       "  <thead>\n",
       "    <tr style=\"text-align: right;\">\n",
       "      <th></th>\n",
       "      <th>trail_name</th>\n",
       "      <th>elevation_gain</th>\n",
       "      <th>hike_attributes</th>\n",
       "      <th>hike_difficulty</th>\n",
       "      <th>hike_region</th>\n",
       "      <th>num_reviews</th>\n",
       "      <th>route_type</th>\n",
       "      <th>stars</th>\n",
       "      <th>total_distance</th>\n",
       "    </tr>\n",
       "  </thead>\n",
       "  <tbody>\n",
       "    <tr>\n",
       "      <th>0</th>\n",
       "      <td>Tin Mine Canyon Trail</td>\n",
       "      <td>715 feet</td>\n",
       "      <td>[dogs on leash, hiking, walking, partially pav...</td>\n",
       "      <td>MODERATE</td>\n",
       "      <td>Cleveland National Forest</td>\n",
       "      <td>276</td>\n",
       "      <td>Out &amp; Back</td>\n",
       "      <td>4.2</td>\n",
       "      <td>4.5 miles</td>\n",
       "    </tr>\n",
       "    <tr>\n",
       "      <th>1</th>\n",
       "      <td>Fern Canyon Scenic Trail</td>\n",
       "      <td>826 feet</td>\n",
       "      <td>[camping, hiking, nature trips, walking, bird ...</td>\n",
       "      <td>MODERATE</td>\n",
       "      <td>Van Damme Beach State Park</td>\n",
       "      <td>144</td>\n",
       "      <td>Loop</td>\n",
       "      <td>4.5</td>\n",
       "      <td>8.3 miles</td>\n",
       "    </tr>\n",
       "    <tr>\n",
       "      <th>2</th>\n",
       "      <td>Folsom Trail</td>\n",
       "      <td>265 feet</td>\n",
       "      <td>[dogs on leash, kid friendly, hiking, mountain...</td>\n",
       "      <td>MODERATE</td>\n",
       "      <td>Folsom Lake State Recreation Area</td>\n",
       "      <td>121</td>\n",
       "      <td>Out &amp; Back</td>\n",
       "      <td>4.1</td>\n",
       "      <td>9.2 miles</td>\n",
       "    </tr>\n",
       "    <tr>\n",
       "      <th>3</th>\n",
       "      <td>Santa Paula Canyon and Punch Bowls Trail</td>\n",
       "      <td>787 feet</td>\n",
       "      <td>[dogs on leash, camping, hiking, horseback rid...</td>\n",
       "      <td>MODERATE</td>\n",
       "      <td>Los Padres National Forest</td>\n",
       "      <td>631</td>\n",
       "      <td>Out &amp; Back</td>\n",
       "      <td>4.4</td>\n",
       "      <td>7.0 miles</td>\n",
       "    </tr>\n",
       "    <tr>\n",
       "      <th>4</th>\n",
       "      <td>Schabarum Trail</td>\n",
       "      <td>305 m</td>\n",
       "      <td>[dogs on leash, hiking, mountain biking, natur...</td>\n",
       "      <td>MODERATE</td>\n",
       "      <td>Walnut Ranch Park</td>\n",
       "      <td>196</td>\n",
       "      <td>Loop</td>\n",
       "      <td>4.3</td>\n",
       "      <td>5.8 km</td>\n",
       "    </tr>\n",
       "    <tr>\n",
       "      <th>...</th>\n",
       "      <td>...</td>\n",
       "      <td>...</td>\n",
       "      <td>...</td>\n",
       "      <td>...</td>\n",
       "      <td>...</td>\n",
       "      <td>...</td>\n",
       "      <td>...</td>\n",
       "      <td>...</td>\n",
       "      <td>...</td>\n",
       "    </tr>\n",
       "    <tr>\n",
       "      <th>1020</th>\n",
       "      <td>Griffith Park Old Zoo Loop</td>\n",
       "      <td>419 feet</td>\n",
       "      <td>[hiking, nature trips, walking, bird watching,...</td>\n",
       "      <td>easy</td>\n",
       "      <td>Griffith Park</td>\n",
       "      <td>193</td>\n",
       "      <td>Loop</td>\n",
       "      <td>4.2</td>\n",
       "      <td>2.7 miles</td>\n",
       "    </tr>\n",
       "    <tr>\n",
       "      <th>1021</th>\n",
       "      <td>Brown Mountain Dam Waterfall</td>\n",
       "      <td>656 feet</td>\n",
       "      <td>[dogs on leash, backpacking, hiking, mountain ...</td>\n",
       "      <td>moderate</td>\n",
       "      <td>Angeles National Forest</td>\n",
       "      <td>123</td>\n",
       "      <td>Out &amp; Back</td>\n",
       "      <td>4.5</td>\n",
       "      <td>8.4 miles</td>\n",
       "    </tr>\n",
       "    <tr>\n",
       "      <th>1022</th>\n",
       "      <td>San Diego Sea to Sea Trail via Camino Ruiz Park</td>\n",
       "      <td>403 feet</td>\n",
       "      <td>[dogs on leash, hiking, mountain biking, bird ...</td>\n",
       "      <td>easy</td>\n",
       "      <td>Los Penasquitos Canyon Preserve</td>\n",
       "      <td>142</td>\n",
       "      <td>Out &amp; Back</td>\n",
       "      <td>4.2</td>\n",
       "      <td>4.8 miles</td>\n",
       "    </tr>\n",
       "    <tr>\n",
       "      <th>1023</th>\n",
       "      <td>Partington Cove Trail</td>\n",
       "      <td>347 feet</td>\n",
       "      <td>[hiking, nature trips, beach, river, views, wa...</td>\n",
       "      <td>moderate</td>\n",
       "      <td>Big Sur, California</td>\n",
       "      <td>205</td>\n",
       "      <td>Out &amp; Back</td>\n",
       "      <td>4.6</td>\n",
       "      <td>1.1 miles</td>\n",
       "    </tr>\n",
       "    <tr>\n",
       "      <th>1024</th>\n",
       "      <td>Sanborn Skyline Park to Castle Rock State Park</td>\n",
       "      <td>2,985 feet</td>\n",
       "      <td>[camping, hiking, mountain biking, rock climbi...</td>\n",
       "      <td>hard</td>\n",
       "      <td>Sanborn County Park</td>\n",
       "      <td>80</td>\n",
       "      <td>Loop</td>\n",
       "      <td>4.5</td>\n",
       "      <td>14.3 miles</td>\n",
       "    </tr>\n",
       "  </tbody>\n",
       "</table>\n",
       "<p>1025 rows × 9 columns</p>\n",
       "</div>"
      ],
      "text/plain": [
       "                                           trail_name          elevation_gain  \\\n",
       "0                               Tin Mine Canyon Trail                715 feet   \n",
       "1                            Fern Canyon Scenic Trail                826 feet   \n",
       "2                                        Folsom Trail                265 feet   \n",
       "3            Santa Paula Canyon and Punch Bowls Trail                787 feet   \n",
       "4                                     Schabarum Trail                   305 m   \n",
       "...                                               ...                     ...   \n",
       "1020                       Griffith Park Old Zoo Loop                419 feet   \n",
       "1021                     Brown Mountain Dam Waterfall                656 feet   \n",
       "1022  San Diego Sea to Sea Trail via Camino Ruiz Park                403 feet   \n",
       "1023                            Partington Cove Trail                347 feet   \n",
       "1024   Sanborn Skyline Park to Castle Rock State Park              2,985 feet   \n",
       "\n",
       "                                        hike_attributes hike_difficulty  \\\n",
       "0     [dogs on leash, hiking, walking, partially pav...        MODERATE   \n",
       "1     [camping, hiking, nature trips, walking, bird ...        MODERATE   \n",
       "2     [dogs on leash, kid friendly, hiking, mountain...        MODERATE   \n",
       "3     [dogs on leash, camping, hiking, horseback rid...        MODERATE   \n",
       "4     [dogs on leash, hiking, mountain biking, natur...        MODERATE   \n",
       "...                                                 ...             ...   \n",
       "1020  [hiking, nature trips, walking, bird watching,...            easy   \n",
       "1021  [dogs on leash, backpacking, hiking, mountain ...        moderate   \n",
       "1022  [dogs on leash, hiking, mountain biking, bird ...            easy   \n",
       "1023  [hiking, nature trips, beach, river, views, wa...        moderate   \n",
       "1024  [camping, hiking, mountain biking, rock climbi...            hard   \n",
       "\n",
       "                            hike_region num_reviews  route_type stars  \\\n",
       "0             Cleveland National Forest         276  Out & Back   4.2   \n",
       "1            Van Damme Beach State Park         144        Loop   4.5   \n",
       "2     Folsom Lake State Recreation Area         121  Out & Back   4.1   \n",
       "3            Los Padres National Forest         631  Out & Back   4.4   \n",
       "4                     Walnut Ranch Park         196        Loop   4.3   \n",
       "...                                 ...         ...         ...   ...   \n",
       "1020                      Griffith Park         193        Loop   4.2   \n",
       "1021            Angeles National Forest         123  Out & Back   4.5   \n",
       "1022    Los Penasquitos Canyon Preserve         142  Out & Back   4.2   \n",
       "1023                Big Sur, California         205  Out & Back   4.6   \n",
       "1024                Sanborn County Park          80        Loop   4.5   \n",
       "\n",
       "              total_distance  \n",
       "0                  4.5 miles  \n",
       "1                  8.3 miles  \n",
       "2                  9.2 miles  \n",
       "3                  7.0 miles  \n",
       "4                     5.8 km  \n",
       "...                      ...  \n",
       "1020               2.7 miles  \n",
       "1021               8.4 miles  \n",
       "1022               4.8 miles  \n",
       "1023               1.1 miles  \n",
       "1024              14.3 miles  \n",
       "\n",
       "[1025 rows x 9 columns]"
      ]
     },
     "execution_count": 7,
     "metadata": {},
     "output_type": "execute_result"
    }
   ],
   "source": [
    "trail_df"
   ]
  },
  {
   "cell_type": "code",
   "execution_count": 8,
   "metadata": {},
   "outputs": [],
   "source": [
    "# functions to clean trail_df data\n",
    "\n",
    "def elevation(row):\n",
    "    '''converts elevation in meters to feet'''\n",
    "    row = row.replace(',','').strip().replace(' m','')\n",
    "    row = int(row)\n",
    "    row = row * 3\n",
    "    return row\n",
    "\n",
    "def distance(row):\n",
    "    '''converts distance in km to miles'''\n",
    "    row = row.strip().replace(',','').replace(' km','')\n",
    "    row = float(row)\n",
    "    row = round((row*0.621371),1)\n",
    "    return row"
   ]
  },
  {
   "cell_type": "code",
   "execution_count": 9,
   "metadata": {},
   "outputs": [],
   "source": [
    "trail_df['hike_difficulty'] = trail_df['hike_difficulty'].str.lower()"
   ]
  },
  {
   "cell_type": "code",
   "execution_count": 10,
   "metadata": {},
   "outputs": [],
   "source": [
    "trail_df['difficulty'] = trail_df['hike_difficulty'].map({'easy': 1, 'moderate': 2,'hard':3})"
   ]
  },
  {
   "cell_type": "code",
   "execution_count": 11,
   "metadata": {},
   "outputs": [],
   "source": [
    "trail_df['distance'] = trail_df['total_distance'].str.replace(' miles','').str.strip().str.replace(',','')"
   ]
  },
  {
   "cell_type": "code",
   "execution_count": 12,
   "metadata": {},
   "outputs": [],
   "source": [
    "trail_df.distance = trail_df.distance.apply(lambda x: distance(x) if 'km' in x else x)"
   ]
  },
  {
   "cell_type": "code",
   "execution_count": 13,
   "metadata": {},
   "outputs": [],
   "source": [
    "trail_df['elevation'] = trail_df['elevation_gain'].str.strip().str.replace(' feet','').str.replace(',','')"
   ]
  },
  {
   "cell_type": "code",
   "execution_count": 14,
   "metadata": {},
   "outputs": [],
   "source": [
    "trail_df.elevation = trail_df.elevation.apply(lambda x: elevation(x) if 'm' in x else x)"
   ]
  },
  {
   "cell_type": "code",
   "execution_count": 15,
   "metadata": {},
   "outputs": [],
   "source": [
    "trail_sm = trail_df[['trail_name','distance','difficulty','elevation']]"
   ]
  },
  {
   "cell_type": "code",
   "execution_count": 16,
   "metadata": {},
   "outputs": [],
   "source": [
    "trail_sm = trail_sm.set_index('trail_name')"
   ]
  },
  {
   "cell_type": "markdown",
   "metadata": {},
   "source": [
    "##  Scale new features"
   ]
  },
  {
   "cell_type": "code",
   "execution_count": 17,
   "metadata": {},
   "outputs": [],
   "source": [
    "from sklearn import preprocessing\n",
    "# convert dataframe to array for scaling\n",
    "X_train = trail_sm.to_numpy(dtype='float')"
   ]
  },
  {
   "cell_type": "code",
   "execution_count": 18,
   "metadata": {},
   "outputs": [],
   "source": [
    "min_max_scaler = preprocessing.MinMaxScaler()"
   ]
  },
  {
   "cell_type": "code",
   "execution_count": 19,
   "metadata": {},
   "outputs": [
    {
     "data": {
      "text/plain": [
       "array([[1.66044002e-03, 5.00000000e-01, 1.65647269e-03],\n",
       "       [3.09445639e-03, 5.00000000e-01, 1.91471492e-03],\n",
       "       [3.43409185e-03, 5.00000000e-01, 6.09544726e-04],\n",
       "       ...,\n",
       "       [1.77365184e-03, 0.00000000e+00, 9.30602635e-04],\n",
       "       [3.77372731e-04, 5.00000000e-01, 8.00318266e-04],\n",
       "       [5.35869278e-03, 1.00000000e+00, 6.93764264e-03]])"
      ]
     },
     "execution_count": 19,
     "metadata": {},
     "output_type": "execute_result"
    }
   ],
   "source": [
    "X_train_minmax = min_max_scaler.fit_transform(X_train)\n",
    "X_train_minmax"
   ]
  },
  {
   "cell_type": "code",
   "execution_count": 20,
   "metadata": {},
   "outputs": [],
   "source": [
    "# convert scaled array back to dataframe\n",
    "trail_s = pd.DataFrame(X_train_minmax,\n",
    "             index = trail_sm.index,\n",
    "             columns = ['distance','difficulty','elevation'])"
   ]
  },
  {
   "cell_type": "code",
   "execution_count": 21,
   "metadata": {},
   "outputs": [
    {
     "data": {
      "text/html": [
       "<div>\n",
       "<style scoped>\n",
       "    .dataframe tbody tr th:only-of-type {\n",
       "        vertical-align: middle;\n",
       "    }\n",
       "\n",
       "    .dataframe tbody tr th {\n",
       "        vertical-align: top;\n",
       "    }\n",
       "\n",
       "    .dataframe thead th {\n",
       "        text-align: right;\n",
       "    }\n",
       "</style>\n",
       "<table border=\"1\" class=\"dataframe\">\n",
       "  <thead>\n",
       "    <tr style=\"text-align: right;\">\n",
       "      <th></th>\n",
       "      <th>distance</th>\n",
       "      <th>difficulty</th>\n",
       "      <th>elevation</th>\n",
       "    </tr>\n",
       "    <tr>\n",
       "      <th>trail_name</th>\n",
       "      <th></th>\n",
       "      <th></th>\n",
       "      <th></th>\n",
       "    </tr>\n",
       "  </thead>\n",
       "  <tbody>\n",
       "    <tr>\n",
       "      <th>Tin Mine Canyon Trail</th>\n",
       "      <td>0.001660</td>\n",
       "      <td>0.5</td>\n",
       "      <td>0.001656</td>\n",
       "    </tr>\n",
       "    <tr>\n",
       "      <th>Fern Canyon Scenic Trail</th>\n",
       "      <td>0.003094</td>\n",
       "      <td>0.5</td>\n",
       "      <td>0.001915</td>\n",
       "    </tr>\n",
       "    <tr>\n",
       "      <th>Folsom Trail</th>\n",
       "      <td>0.003434</td>\n",
       "      <td>0.5</td>\n",
       "      <td>0.000610</td>\n",
       "    </tr>\n",
       "    <tr>\n",
       "      <th>Santa Paula Canyon and Punch Bowls Trail</th>\n",
       "      <td>0.002604</td>\n",
       "      <td>0.5</td>\n",
       "      <td>0.001824</td>\n",
       "    </tr>\n",
       "    <tr>\n",
       "      <th>Schabarum Trail</th>\n",
       "      <td>0.001321</td>\n",
       "      <td>0.5</td>\n",
       "      <td>0.002122</td>\n",
       "    </tr>\n",
       "    <tr>\n",
       "      <th>...</th>\n",
       "      <td>...</td>\n",
       "      <td>...</td>\n",
       "      <td>...</td>\n",
       "    </tr>\n",
       "    <tr>\n",
       "      <th>Griffith Park Old Zoo Loop</th>\n",
       "      <td>0.000981</td>\n",
       "      <td>0.0</td>\n",
       "      <td>0.000968</td>\n",
       "    </tr>\n",
       "    <tr>\n",
       "      <th>Brown Mountain Dam Waterfall</th>\n",
       "      <td>0.003132</td>\n",
       "      <td>0.5</td>\n",
       "      <td>0.001519</td>\n",
       "    </tr>\n",
       "    <tr>\n",
       "      <th>San Diego Sea to Sea Trail via Camino Ruiz Park</th>\n",
       "      <td>0.001774</td>\n",
       "      <td>0.0</td>\n",
       "      <td>0.000931</td>\n",
       "    </tr>\n",
       "    <tr>\n",
       "      <th>Partington Cove Trail</th>\n",
       "      <td>0.000377</td>\n",
       "      <td>0.5</td>\n",
       "      <td>0.000800</td>\n",
       "    </tr>\n",
       "    <tr>\n",
       "      <th>Sanborn Skyline Park to Castle Rock State Park</th>\n",
       "      <td>0.005359</td>\n",
       "      <td>1.0</td>\n",
       "      <td>0.006938</td>\n",
       "    </tr>\n",
       "  </tbody>\n",
       "</table>\n",
       "<p>1025 rows × 3 columns</p>\n",
       "</div>"
      ],
      "text/plain": [
       "                                                 distance  difficulty  \\\n",
       "trail_name                                                              \n",
       "Tin Mine Canyon Trail                            0.001660         0.5   \n",
       "Fern Canyon Scenic Trail                         0.003094         0.5   \n",
       "Folsom Trail                                     0.003434         0.5   \n",
       "Santa Paula Canyon and Punch Bowls Trail         0.002604         0.5   \n",
       "Schabarum Trail                                  0.001321         0.5   \n",
       "...                                                   ...         ...   \n",
       "Griffith Park Old Zoo Loop                       0.000981         0.0   \n",
       "Brown Mountain Dam Waterfall                     0.003132         0.5   \n",
       "San Diego Sea to Sea Trail via Camino Ruiz Park  0.001774         0.0   \n",
       "Partington Cove Trail                            0.000377         0.5   \n",
       "Sanborn Skyline Park to Castle Rock State Park   0.005359         1.0   \n",
       "\n",
       "                                                 elevation  \n",
       "trail_name                                                  \n",
       "Tin Mine Canyon Trail                             0.001656  \n",
       "Fern Canyon Scenic Trail                          0.001915  \n",
       "Folsom Trail                                      0.000610  \n",
       "Santa Paula Canyon and Punch Bowls Trail          0.001824  \n",
       "Schabarum Trail                                   0.002122  \n",
       "...                                                    ...  \n",
       "Griffith Park Old Zoo Loop                        0.000968  \n",
       "Brown Mountain Dam Waterfall                      0.001519  \n",
       "San Diego Sea to Sea Trail via Camino Ruiz Park   0.000931  \n",
       "Partington Cove Trail                             0.000800  \n",
       "Sanborn Skyline Park to Castle Rock State Park    0.006938  \n",
       "\n",
       "[1025 rows x 3 columns]"
      ]
     },
     "execution_count": 21,
     "metadata": {},
     "output_type": "execute_result"
    }
   ],
   "source": [
    "trail_s"
   ]
  },
  {
   "cell_type": "markdown",
   "metadata": {},
   "source": [
    "### Merge new features with doc topic df"
   ]
  },
  {
   "cell_type": "code",
   "execution_count": 23,
   "metadata": {},
   "outputs": [],
   "source": [
    "trail_cosine_df = a_df.join(trail_s,how='left')"
   ]
  },
  {
   "cell_type": "code",
   "execution_count": 24,
   "metadata": {},
   "outputs": [],
   "source": [
    "trail_cosine_df.index = trail_cosine_df.index.str.strip()"
   ]
  },
  {
   "cell_type": "code",
   "execution_count": 27,
   "metadata": {},
   "outputs": [],
   "source": [
    "df_lda_cv['topic'] = df_lda_cv.idxmax(axis=1)"
   ]
  },
  {
   "cell_type": "code",
   "execution_count": 43,
   "metadata": {},
   "outputs": [],
   "source": [
    "df_lda_cv['topic'] = df_lda_cv['topic'].str.replace('topic_','')"
   ]
  },
  {
   "cell_type": "code",
   "execution_count": 28,
   "metadata": {},
   "outputs": [
    {
     "data": {
      "text/html": [
       "<div>\n",
       "<style scoped>\n",
       "    .dataframe tbody tr th:only-of-type {\n",
       "        vertical-align: middle;\n",
       "    }\n",
       "\n",
       "    .dataframe tbody tr th {\n",
       "        vertical-align: top;\n",
       "    }\n",
       "\n",
       "    .dataframe thead th {\n",
       "        text-align: right;\n",
       "    }\n",
       "</style>\n",
       "<table border=\"1\" class=\"dataframe\">\n",
       "  <thead>\n",
       "    <tr style=\"text-align: right;\">\n",
       "      <th></th>\n",
       "      <th>topic_1</th>\n",
       "      <th>topic_2</th>\n",
       "      <th>topic_3</th>\n",
       "      <th>topic_4</th>\n",
       "      <th>topic_5</th>\n",
       "      <th>topic_6</th>\n",
       "      <th>topic</th>\n",
       "    </tr>\n",
       "  </thead>\n",
       "  <tbody>\n",
       "    <tr>\n",
       "      <th>San Clemente State Beach</th>\n",
       "      <td>0.016732</td>\n",
       "      <td>0.001399</td>\n",
       "      <td>0.376388</td>\n",
       "      <td>0.001399</td>\n",
       "      <td>0.602682</td>\n",
       "      <td>0.001400</td>\n",
       "      <td>topic_5</td>\n",
       "    </tr>\n",
       "    <tr>\n",
       "      <th>Sostomo and Deer Valley Loop Trail</th>\n",
       "      <td>0.000254</td>\n",
       "      <td>0.733161</td>\n",
       "      <td>0.043761</td>\n",
       "      <td>0.000254</td>\n",
       "      <td>0.171032</td>\n",
       "      <td>0.051538</td>\n",
       "      <td>topic_2</td>\n",
       "    </tr>\n",
       "    <tr>\n",
       "      <th>Abalone Cove Trail</th>\n",
       "      <td>0.000222</td>\n",
       "      <td>0.000222</td>\n",
       "      <td>0.392668</td>\n",
       "      <td>0.000222</td>\n",
       "      <td>0.163983</td>\n",
       "      <td>0.442682</td>\n",
       "      <td>topic_6</td>\n",
       "    </tr>\n",
       "    <tr>\n",
       "      <th>Abeja Loop Trail</th>\n",
       "      <td>0.013848</td>\n",
       "      <td>0.750046</td>\n",
       "      <td>0.006227</td>\n",
       "      <td>0.000389</td>\n",
       "      <td>0.229101</td>\n",
       "      <td>0.000389</td>\n",
       "      <td>topic_2</td>\n",
       "    </tr>\n",
       "    <tr>\n",
       "      <th>Ahwingna and Native Oak Loop Trail</th>\n",
       "      <td>0.000128</td>\n",
       "      <td>0.524869</td>\n",
       "      <td>0.000128</td>\n",
       "      <td>0.010950</td>\n",
       "      <td>0.462106</td>\n",
       "      <td>0.001820</td>\n",
       "      <td>topic_2</td>\n",
       "    </tr>\n",
       "    <tr>\n",
       "      <th>...</th>\n",
       "      <td>...</td>\n",
       "      <td>...</td>\n",
       "      <td>...</td>\n",
       "      <td>...</td>\n",
       "      <td>...</td>\n",
       "      <td>...</td>\n",
       "      <td>...</td>\n",
       "    </tr>\n",
       "    <tr>\n",
       "      <th>Wrights Lake to Grouse Lake</th>\n",
       "      <td>0.679103</td>\n",
       "      <td>0.031326</td>\n",
       "      <td>0.022949</td>\n",
       "      <td>0.088833</td>\n",
       "      <td>0.000425</td>\n",
       "      <td>0.177364</td>\n",
       "      <td>topic_1</td>\n",
       "    </tr>\n",
       "    <tr>\n",
       "      <th>Zabriskie Point</th>\n",
       "      <td>0.000385</td>\n",
       "      <td>0.159699</td>\n",
       "      <td>0.777425</td>\n",
       "      <td>0.000386</td>\n",
       "      <td>0.061720</td>\n",
       "      <td>0.000386</td>\n",
       "      <td>topic_3</td>\n",
       "    </tr>\n",
       "    <tr>\n",
       "      <th>Zanja Peak Trail</th>\n",
       "      <td>0.000275</td>\n",
       "      <td>0.872422</td>\n",
       "      <td>0.000272</td>\n",
       "      <td>0.000274</td>\n",
       "      <td>0.126484</td>\n",
       "      <td>0.000273</td>\n",
       "      <td>topic_2</td>\n",
       "    </tr>\n",
       "    <tr>\n",
       "      <th>Zumwalt Meadow And Roaring River Falls</th>\n",
       "      <td>0.297922</td>\n",
       "      <td>0.000359</td>\n",
       "      <td>0.061063</td>\n",
       "      <td>0.014261</td>\n",
       "      <td>0.214505</td>\n",
       "      <td>0.411890</td>\n",
       "      <td>topic_6</td>\n",
       "    </tr>\n",
       "    <tr>\n",
       "      <th>Zumwalt Meadow Loop Trail</th>\n",
       "      <td>0.325420</td>\n",
       "      <td>0.000599</td>\n",
       "      <td>0.169896</td>\n",
       "      <td>0.019000</td>\n",
       "      <td>0.187206</td>\n",
       "      <td>0.297879</td>\n",
       "      <td>topic_1</td>\n",
       "    </tr>\n",
       "  </tbody>\n",
       "</table>\n",
       "<p>1013 rows × 7 columns</p>\n",
       "</div>"
      ],
      "text/plain": [
       "                                         topic_1   topic_2   topic_3  \\\n",
       " San Clemente State Beach               0.016732  0.001399  0.376388   \n",
       " Sostomo and Deer Valley Loop Trail     0.000254  0.733161  0.043761   \n",
       "Abalone Cove Trail                      0.000222  0.000222  0.392668   \n",
       "Abeja Loop Trail                        0.013848  0.750046  0.006227   \n",
       "Ahwingna and Native Oak Loop Trail      0.000128  0.524869  0.000128   \n",
       "...                                          ...       ...       ...   \n",
       "Wrights Lake to Grouse Lake             0.679103  0.031326  0.022949   \n",
       "Zabriskie Point                         0.000385  0.159699  0.777425   \n",
       "Zanja Peak Trail                        0.000275  0.872422  0.000272   \n",
       "Zumwalt Meadow And Roaring River Falls  0.297922  0.000359  0.061063   \n",
       "Zumwalt Meadow Loop Trail               0.325420  0.000599  0.169896   \n",
       "\n",
       "                                         topic_4   topic_5   topic_6    topic  \n",
       " San Clemente State Beach               0.001399  0.602682  0.001400  topic_5  \n",
       " Sostomo and Deer Valley Loop Trail     0.000254  0.171032  0.051538  topic_2  \n",
       "Abalone Cove Trail                      0.000222  0.163983  0.442682  topic_6  \n",
       "Abeja Loop Trail                        0.000389  0.229101  0.000389  topic_2  \n",
       "Ahwingna and Native Oak Loop Trail      0.010950  0.462106  0.001820  topic_2  \n",
       "...                                          ...       ...       ...      ...  \n",
       "Wrights Lake to Grouse Lake             0.088833  0.000425  0.177364  topic_1  \n",
       "Zabriskie Point                         0.000386  0.061720  0.000386  topic_3  \n",
       "Zanja Peak Trail                        0.000274  0.126484  0.000273  topic_2  \n",
       "Zumwalt Meadow And Roaring River Falls  0.014261  0.214505  0.411890  topic_6  \n",
       "Zumwalt Meadow Loop Trail               0.019000  0.187206  0.297879  topic_1  \n",
       "\n",
       "[1013 rows x 7 columns]"
      ]
     },
     "execution_count": 28,
     "metadata": {},
     "output_type": "execute_result"
    }
   ],
   "source": [
    "df_lda_cv"
   ]
  },
  {
   "cell_type": "code",
   "execution_count": 29,
   "metadata": {},
   "outputs": [],
   "source": [
    "trail_cosine_df = trail_cosine_df.loc[~trail_cosine_df.index.duplicated(keep='first')]"
   ]
  },
  {
   "cell_type": "code",
   "execution_count": 30,
   "metadata": {},
   "outputs": [
    {
     "data": {
      "text/plain": [
       "topic_1       0.052074\n",
       "topic_2       0.000012\n",
       "topic_3       0.000012\n",
       "topic_4       0.943545\n",
       "topic_5       0.004345\n",
       "topic_6       0.000012\n",
       "distance      0.008453\n",
       "difficulty    1.000000\n",
       "elevation     0.015478\n",
       "Name: Mount Whitney Trail, dtype: float64"
      ]
     },
     "execution_count": 30,
     "metadata": {},
     "output_type": "execute_result"
    }
   ],
   "source": [
    "trail_cosine_df.loc['Mount Whitney Trail']"
   ]
  },
  {
   "cell_type": "markdown",
   "metadata": {},
   "source": [
    "## Recommender"
   ]
  },
  {
   "cell_type": "code",
   "execution_count": 31,
   "metadata": {},
   "outputs": [],
   "source": [
    "doc_topic2 = trail_cosine_df.to_numpy(dtype='float')"
   ]
  },
  {
   "cell_type": "code",
   "execution_count": 372,
   "metadata": {},
   "outputs": [],
   "source": [
    "cosine_sim_lda = cosine_similarity(doc_topic_lda_cv)"
   ]
  },
  {
   "cell_type": "code",
   "execution_count": 34,
   "metadata": {},
   "outputs": [],
   "source": [
    "def recommend(trail, num_recommends, cosine_sim = trail_cosine_df, df = trail_cosine_df):\n",
    "    '''input: trail name, number of trails to return, cosine similarity matrix, dataframe to use as index\n",
    "       output: recommended trails, cosine similarity score, topic'''\n",
    "    indices = pd.Series(list(df.index))\n",
    "    recommended_trails = []\n",
    "    idx = indices[indices == trail].index[0]\n",
    "    score_series = pd.Series(cosine_sim[idx]).sort_values(ascending = False)\n",
    "    top_n_indices = list(zip(score_series.iloc[1:num_recommends].index, \n",
    "                             score_series.iloc[1:num_recommends].values))\n",
    "    \n",
    "    for i, score in top_n_indices:\n",
    "        topic = df_lda_cv.iloc[i]['topic']\n",
    "        recommended_trails.append((list(indices)[i], score, topic))\n",
    "        \n",
    "    return recommended_trails"
   ]
  },
  {
   "cell_type": "code",
   "execution_count": 373,
   "metadata": {},
   "outputs": [
    {
     "data": {
      "text/plain": [
       "[('Clouds Rest Trail from Yosemite Valley', 0.9974778213888202),\n",
       " ('Mount Muir via the Mount Whitney Trail', 0.9961405143895997),\n",
       " ('Half Dome Trail', 0.9954829403553808),\n",
       " ('San Jacinto Peak from The Tramway', 0.9936451551696017),\n",
       " ('Mount Shasta via Avalanche Gulch Route', 0.9924709964694631),\n",
       " ('Mount San Antonio via Baldy Bowl Trail', 0.991771347725399),\n",
       " ('Vivian Creek Trail to San Gorgonio Peak', 0.991596806534552),\n",
       " ('Skyline Trail to Aerial Tramway Top Station', 0.9895521092768316),\n",
       " ('San Jacinto Peak Middle Route Trail', 0.989002597111029)]"
      ]
     },
     "execution_count": 373,
     "metadata": {},
     "output_type": "execute_result"
    }
   ],
   "source": [
    "# CV - LDA\n",
    "# order without the added features from trail_df\n",
    "recommend(\"Mount Whitney Trail\",10,cosine_sim=cosine_sim_lda, df=data_na)"
   ]
  },
  {
   "cell_type": "code",
   "execution_count": 32,
   "metadata": {},
   "outputs": [],
   "source": [
    "cosine_sim_more = cosine_similarity(trail_cosine_df,trail_cosine_df)"
   ]
  },
  {
   "cell_type": "code",
   "execution_count": 45,
   "metadata": {},
   "outputs": [
    {
     "data": {
      "text/plain": [
       "[('Clouds Rest Trail from Yosemite Valley', 0.9984544542112237, '4'),\n",
       " ('Mount Muir via the Mount Whitney Trail', 0.9982548279292811, '4'),\n",
       " ('Vivian Creek Trail to San Gorgonio Peak', 0.997485354725001, '4'),\n",
       " ('Half Dome Trail', 0.9967095300992956, '4'),\n",
       " ('Skyline Trail to Aerial Tramway Top Station', 0.9961144613913573, '4'),\n",
       " ('San Jacinto Peak from The Tramway', 0.9960818978739187, '4'),\n",
       " ('Mount San Antonio via Baldy Bowl Trail', 0.9937551256418606, '4'),\n",
       " ('San Jacinto Peak Middle Route Trail', 0.9931565724694243, '4'),\n",
       " ('Mount Shasta via Avalanche Gulch Route', 0.9928907019637475, '4')]"
      ]
     },
     "execution_count": 45,
     "metadata": {},
     "output_type": "execute_result"
    }
   ],
   "source": [
    "# CV - LDA with new features (elevation,distance,difficulty)\n",
    "recommend(\"Mount Whitney Trail\", 10, cosine_sim=cosine_sim_more, df=trail_cosine_df)"
   ]
  },
  {
   "cell_type": "code",
   "execution_count": 37,
   "metadata": {},
   "outputs": [
    {
     "data": {
      "text/plain": [
       "[('Soberanes Canyon Trail', 0.9993926531834374, 'topic_2'),\n",
       " ('Point Sal Overlook', 0.9983932861699566, 'topic_2'),\n",
       " ('Juniper to Eagle Peak to Summit Loop', 0.99609200547144, 'topic_2'),\n",
       " ('Mori Point and Sweeney Ridge Loop Trail via Skyline College',\n",
       "  0.9949549008893087,\n",
       "  'topic_2'),\n",
       " ('Black Rock Canyon Trail to Warren Peak', 0.9935367730147641, 'topic_2'),\n",
       " ('Whittemore Gulch and Harkins Ridge Loop Trail',\n",
       "  0.9914195587043442,\n",
       "  'topic_2'),\n",
       " ('Condor Gulch Trail to High Peaks Trail Loop',\n",
       "  0.9899806240659736,\n",
       "  'topic_2'),\n",
       " ('Tennesse Valley to Muir Beach and Fox Trail',\n",
       "  0.9876294430189846,\n",
       "  'topic_2'),\n",
       " ('Rodeo Valley Trail To Miwok Trail Loop Via Coastal Trail',\n",
       "  0.9856947839475881,\n",
       "  'topic_2')]"
      ]
     },
     "execution_count": 37,
     "metadata": {},
     "output_type": "execute_result"
    }
   ],
   "source": [
    "recommend(\"Tanbark Trail and Tin House\", 10, cosine_sim=cosine_sim_more, df=trail_cosine_df)"
   ]
  },
  {
   "cell_type": "code",
   "execution_count": null,
   "metadata": {},
   "outputs": [],
   "source": []
  }
 ],
 "metadata": {
  "kernelspec": {
   "display_name": "Python [conda env:metis] *",
   "language": "python",
   "name": "conda-env-metis-py"
  },
  "language_info": {
   "codemirror_mode": {
    "name": "ipython",
    "version": 3
   },
   "file_extension": ".py",
   "mimetype": "text/x-python",
   "name": "python",
   "nbconvert_exporter": "python",
   "pygments_lexer": "ipython3",
   "version": "3.7.4"
  }
 },
 "nbformat": 4,
 "nbformat_minor": 4
}
